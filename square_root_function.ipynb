{
  "nbformat": 4,
  "nbformat_minor": 0,
  "metadata": {
    "colab": {
      "provenance": [],
      "authorship_tag": "ABX9TyOFTAkoO2v/KJoULqviT9ED",
      "include_colab_link": true
    },
    "kernelspec": {
      "name": "python3",
      "display_name": "Python 3"
    },
    "language_info": {
      "name": "python"
    }
  },
  "cells": [
    {
      "cell_type": "markdown",
      "metadata": {
        "id": "view-in-github",
        "colab_type": "text"
      },
      "source": [
        "<a href=\"https://colab.research.google.com/github/bacteria-1/bacteria-1/blob/main/square_root_function.ipynb\" target=\"_parent\"><img src=\"https://colab.research.google.com/assets/colab-badge.svg\" alt=\"Open In Colab\"/></a>"
      ]
    },
    {
      "cell_type": "code",
      "execution_count": 1,
      "metadata": {
        "colab": {
          "base_uri": "https://localhost:8080/"
        },
        "id": "yuNpi15WNvil",
        "outputId": "90bb2fe2-9135-4134-b003-cb63bd41805b"
      },
      "outputs": [
        {
          "output_type": "stream",
          "name": "stdout",
          "text": [
            "enter the number\n",
            "None66789753\n",
            "the square root of 66789753 is 8172.499801162433\n"
          ]
        }
      ],
      "source": [
        "from math import sqrt\n",
        "\n",
        "number = eval(input(print(\"enter the number \")))\n",
        "\n",
        "root = sqrt(number)\n",
        "\n",
        "print(\"the square root of \" + str(number) + \" is \" + str(root))\n"
      ]
    }
  ]
}