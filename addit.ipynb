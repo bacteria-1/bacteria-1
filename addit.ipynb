{
  "nbformat": 4,
  "nbformat_minor": 0,
  "metadata": {
    "colab": {
      "provenance": [],
      "authorship_tag": "ABX9TyNAiFC8CTE90P0f3QwL3Vd+",
      "include_colab_link": true
    },
    "kernelspec": {
      "name": "python3",
      "display_name": "Python 3"
    },
    "language_info": {
      "name": "python"
    }
  },
  "cells": [
    {
      "cell_type": "markdown",
      "metadata": {
        "id": "view-in-github",
        "colab_type": "text"
      },
      "source": [
        "<a href=\"https://colab.research.google.com/github/bacteria-1/bacteria-1/blob/main/addit.ipynb\" target=\"_parent\"><img src=\"https://colab.research.google.com/assets/colab-badge.svg\" alt=\"Open In Colab\"/></a>"
      ]
    },
    {
      "cell_type": "code",
      "execution_count": 14,
      "metadata": {
        "colab": {
          "base_uri": "https://localhost:8080/"
        },
        "id": "yuNpi15WNvil",
        "outputId": "bbb5eeff-fd8d-4f13-f75f-4dfb17246eeb"
      },
      "outputs": [
        {
          "output_type": "stream",
          "name": "stdout",
          "text": [
            "we are adding 2 values\n",
            "enter an integer\n",
            "None45\n",
            "enter an integer\n",
            "None76\n",
            "the sum is  121\n"
          ]
        }
      ],
      "source": [
        "def prompt():\n",
        "  integer = int(input(print(\"enter an integer\")))\n",
        "  return integer\n",
        "\n",
        "print(\"we are adding 2 values\")\n",
        "value1 = prompt()\n",
        "value2 = prompt()\n",
        "\n",
        "print(\"the sum is \" , value1 + value2)\n",
        "\n"
      ]
    }
  ]
}